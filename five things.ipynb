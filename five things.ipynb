{
 "cells": [
  {
   "cell_type": "markdown",
   "metadata": {
    "slideshow": {
     "slide_type": "slide"
    }
   },
   "source": [
    "# <center>Five Things</center>\n",
    "## <center>(to make your research life easier)</center>\n",
    "### <center>(if you use Python)</center>\n",
    "### <center>Britton Smith</center>\n",
    "#### <center>Stobie Talk - 14 February, 2020</center>"
   ]
  },
  {
   "cell_type": "markdown",
   "metadata": {
    "slideshow": {
     "slide_type": "slide"
    }
   },
   "source": [
    "# numba - http://numba.pydata.org/\n",
    "```\n",
    "pip install numba\n",
    "```\n",
    "### \"Numba is an open source JIT compiler that translates a subset of Python and NumPy code into fast machine code.\""
   ]
  },
  {
   "cell_type": "code",
   "execution_count": 1,
   "metadata": {
    "slideshow": {
     "slide_type": "subslide"
    }
   },
   "outputs": [],
   "source": [
    "import numpy as np\n",
    "import time"
   ]
  },
  {
   "cell_type": "code",
   "execution_count": 2,
   "metadata": {
    "slideshow": {
     "slide_type": "fragment"
    }
   },
   "outputs": [],
   "source": [
    "x = np.random.random(10000000)\n",
    "y = np.random.random(10000000)"
   ]
  },
  {
   "cell_type": "code",
   "execution_count": 3,
   "metadata": {
    "slideshow": {
     "slide_type": "fragment"
    }
   },
   "outputs": [],
   "source": [
    "def monte_carlo_pi(x, y):\n",
    "    nsamples = x.size\n",
    "    acc = 0\n",
    "    for i in range(nsamples):\n",
    "        if (x[i] ** 2 + y[i] ** 2) < 1.0:\n",
    "            acc += 1\n",
    "    return 4.0 * acc / nsamples"
   ]
  },
  {
   "cell_type": "code",
   "execution_count": 4,
   "metadata": {
    "slideshow": {
     "slide_type": "fragment"
    }
   },
   "outputs": [
    {
     "name": "stdout",
     "output_type": "stream",
     "text": [
      "3.1419288\n",
      "That took 8.27987813949585 seconds.\n"
     ]
    }
   ],
   "source": [
    "t1 = time.time()\n",
    "print (monte_carlo_pi(x, y))\n",
    "t2 = time.time()\n",
    "try1 = t2 - t1\n",
    "print (f\"That took {try1} seconds.\")"
   ]
  },
  {
   "cell_type": "code",
   "execution_count": 5,
   "metadata": {
    "slideshow": {
     "slide_type": "subslide"
    }
   },
   "outputs": [],
   "source": [
    "def monte_carlo_pi_numpy(x, y):\n",
    "    nsamples = x.size\n",
    "    acc = ((x**2 + y**2) < 1).sum()\n",
    "    return 4.0 * acc / nsamples"
   ]
  },
  {
   "cell_type": "code",
   "execution_count": 6,
   "metadata": {
    "slideshow": {
     "slide_type": "fragment"
    }
   },
   "outputs": [
    {
     "name": "stdout",
     "output_type": "stream",
     "text": [
      "3.1419288\n",
      "That took 0.1450340747833252 seconds (57.09 speedup).\n"
     ]
    }
   ],
   "source": [
    "t1 = time.time()\n",
    "print (monte_carlo_pi_numpy(x, y))\n",
    "t2 = time.time()\n",
    "try2 = t2 - t1\n",
    "print (f\"That took {try2} seconds ({(try1/try2):.2f} speedup).\")"
   ]
  },
  {
   "cell_type": "code",
   "execution_count": 7,
   "metadata": {
    "slideshow": {
     "slide_type": "subslide"
    }
   },
   "outputs": [],
   "source": [
    "from numba import jit"
   ]
  },
  {
   "cell_type": "code",
   "execution_count": 8,
   "metadata": {
    "slideshow": {
     "slide_type": "fragment"
    }
   },
   "outputs": [],
   "source": [
    "@jit(nopython=True)\n",
    "def monte_carlo_pi_numba(x, y):\n",
    "    nsamples = x.size\n",
    "    acc = 0\n",
    "    for i in range(nsamples):\n",
    "        if (x[i] ** 2 + y[i] ** 2) < 1.0:\n",
    "            acc += 1\n",
    "    return 4.0 * acc / nsamples"
   ]
  },
  {
   "cell_type": "code",
   "execution_count": 9,
   "metadata": {
    "slideshow": {
     "slide_type": "fragment"
    }
   },
   "outputs": [
    {
     "name": "stdout",
     "output_type": "stream",
     "text": [
      "3.1419288\n",
      "That took 0.25689077377319336 seconds (32.23 speedup).\n"
     ]
    }
   ],
   "source": [
    "t1 = time.time()\n",
    "print (monte_carlo_pi_numba(x, y))\n",
    "t2 = time.time()\n",
    "try3 = t2 - t1\n",
    "print (f\"That took {try3} seconds ({(try1/try3):.2f} speedup).\")"
   ]
  },
  {
   "cell_type": "code",
   "execution_count": 10,
   "metadata": {
    "slideshow": {
     "slide_type": "fragment"
    }
   },
   "outputs": [
    {
     "name": "stdout",
     "output_type": "stream",
     "text": [
      "3.1419288\n",
      "That took 0.012539148330688477 seconds (660.32 speedup).\n"
     ]
    }
   ],
   "source": [
    "t1 = time.time()\n",
    "print (monte_carlo_pi_numba(x, y))\n",
    "t2 = time.time()\n",
    "try4 = t2 - t1\n",
    "print (f\"That took {try4} seconds ({(try1/try4):.2f} speedup).\")"
   ]
  },
  {
   "cell_type": "markdown",
   "metadata": {
    "slideshow": {
     "slide_type": "slide"
    }
   },
   "source": [
    "# unyt - http://unyt.readthedocs.io/\n",
    "```\n",
    "pip install unyt\n",
    "```\n",
    "### \"This package provides a python library for working with data that has physical units.\""
   ]
  },
  {
   "cell_type": "code",
   "execution_count": 11,
   "metadata": {
    "slideshow": {
     "slide_type": "subslide"
    }
   },
   "outputs": [],
   "source": [
    "from unyt import unyt_array, unyt_quantity"
   ]
  },
  {
   "cell_type": "code",
   "execution_count": 12,
   "metadata": {
    "slideshow": {
     "slide_type": "fragment"
    }
   },
   "outputs": [],
   "source": [
    "H0 = unyt_quantity(70, 'km/s/Mpc')"
   ]
  },
  {
   "cell_type": "code",
   "execution_count": 13,
   "metadata": {
    "slideshow": {
     "slide_type": "fragment"
    }
   },
   "outputs": [
    {
     "name": "stdout",
     "output_type": "stream",
     "text": [
      "70 km/(Mpc*s)\n"
     ]
    }
   ],
   "source": [
    "print (H0)"
   ]
  },
  {
   "cell_type": "code",
   "execution_count": 14,
   "metadata": {
    "slideshow": {
     "slide_type": "fragment"
    }
   },
   "outputs": [
    {
     "name": "stdout",
     "output_type": "stream",
     "text": [
      "2.268545503e-18 1/s\n"
     ]
    }
   ],
   "source": [
    "print (H0.in_cgs())"
   ]
  },
  {
   "cell_type": "code",
   "execution_count": 15,
   "metadata": {
    "slideshow": {
     "slide_type": "fragment"
    }
   },
   "outputs": [
    {
     "name": "stdout",
     "output_type": "stream",
     "text": [
      "13.968460307330654 Gyr\n"
     ]
    }
   ],
   "source": [
    "print ((1/H0).to('Gyr'))"
   ]
  },
  {
   "cell_type": "code",
   "execution_count": 16,
   "metadata": {
    "slideshow": {
     "slide_type": "subslide"
    }
   },
   "outputs": [
    {
     "name": "stdout",
     "output_type": "stream",
     "text": [
      "[5.e+12 5.e+15 5.e+18] Msun*cm**2/s**2\n"
     ]
    }
   ],
   "source": [
    "m = unyt_array(np.logspace(5, 7, 3), 'Msun')\n",
    "v = unyt_array(np.logspace(4, 6, 3), 'cm/s')\n",
    "E = 0.5*m*v**2\n",
    "print (E)"
   ]
  },
  {
   "cell_type": "code",
   "execution_count": 17,
   "metadata": {
    "slideshow": {
     "slide_type": "fragment"
    }
   },
   "outputs": [
    {
     "name": "stdout",
     "output_type": "stream",
     "text": [
      "[9.9420793e+45 9.9420793e+48 9.9420793e+51] erg\n"
     ]
    }
   ],
   "source": [
    "print (E.in_cgs())"
   ]
  },
  {
   "cell_type": "markdown",
   "metadata": {
    "slideshow": {
     "slide_type": "slide"
    }
   },
   "source": [
    "# yt.save_as_dataset - https://yt-project.org/\n",
    "```\n",
    "pip install yt\n",
    "```\n",
    "### The `save_as_dataset` function allows you to save arbitrary arrays (with units) and reload them with yt.\n",
    "\n",
    "Documentation [here](https://yt-project.org/docs/dev/analyzing/saving_data.html)."
   ]
  },
  {
   "cell_type": "code",
   "execution_count": 18,
   "metadata": {
    "slideshow": {
     "slide_type": "subslide"
    }
   },
   "outputs": [],
   "source": [
    "import yt"
   ]
  },
  {
   "cell_type": "code",
   "execution_count": 19,
   "metadata": {
    "slideshow": {
     "slide_type": "fragment"
    }
   },
   "outputs": [
    {
     "name": "stderr",
     "output_type": "stream",
     "text": [
      "yt : [INFO     ] 2020-02-14 11:20:44,862 Saving field data to yt dataset: my_data.h5.\n"
     ]
    }
   ],
   "source": [
    "m = yt.YTArray(m, 'Msun')\n",
    "v = yt.YTArray(v, 'cm/s')\n",
    "H0 = yt.YTQuantity(H0, 'km/s/Mpc')\n",
    "\n",
    "data = {'mass': m,\n",
    "        'velocity': v}\n",
    "\n",
    "metadata = {\"hubble_constant\": H0}\n",
    "\n",
    "yt.save_as_dataset(metadata, data=data, filename='my_data.h5')"
   ]
  },
  {
   "cell_type": "code",
   "execution_count": 20,
   "metadata": {
    "slideshow": {
     "slide_type": "fragment"
    }
   },
   "outputs": [
    {
     "name": "stderr",
     "output_type": "stream",
     "text": [
      "yt : [WARNING  ] 2020-02-14 11:20:59,939 Geometric data selection not available for this dataset type.\n"
     ]
    }
   ],
   "source": [
    "ds = yt.load('my_data.h5')"
   ]
  },
  {
   "cell_type": "code",
   "execution_count": 21,
   "metadata": {
    "slideshow": {
     "slide_type": "fragment"
    }
   },
   "outputs": [
    {
     "name": "stdout",
     "output_type": "stream",
     "text": [
      "[  100000.  1000000. 10000000.] Msun\n",
      "[ 0.1  1.  10. ] km/s\n",
      "70.0 km/(Mpc*s)\n"
     ]
    }
   ],
   "source": [
    "print (ds.data['mass'])\n",
    "print (ds.data['velocity'].to('km/s'))\n",
    "print (ds.hubble_constant)"
   ]
  },
  {
   "cell_type": "markdown",
   "metadata": {
    "slideshow": {
     "slide_type": "slide"
    }
   },
   "source": [
    "# yt.parallel_objects - https://yt-project.org/\n",
    "```\n",
    "pip install yt\n",
    "```\n",
    "### The `parallel_objects` function turns a regular loop into distributed parallelism (multiple nodes).\n",
    "\n",
    "Documentation [here](https://yt-project.org/docs/dev/analyzing/parallel_computation.html#parallelizing-over-multiple-objects)."
   ]
  },
  {
   "cell_type": "code",
   "execution_count": 22,
   "metadata": {
    "slideshow": {
     "slide_type": "subslide"
    }
   },
   "outputs": [
    {
     "name": "stderr",
     "output_type": "stream",
     "text": [
      "yt : [INFO     ] 2020-02-14 11:22:31,160 0\n",
      "yt : [INFO     ] 2020-02-14 11:22:31,161 1\n",
      "yt : [INFO     ] 2020-02-14 11:22:31,162 2\n",
      "yt : [INFO     ] 2020-02-14 11:22:31,162 3\n",
      "yt : [INFO     ] 2020-02-14 11:22:31,163 4\n",
      "yt : [INFO     ] 2020-02-14 11:22:31,163 5\n",
      "yt : [INFO     ] 2020-02-14 11:22:31,164 6\n",
      "yt : [INFO     ] 2020-02-14 11:22:31,164 7\n",
      "yt : [INFO     ] 2020-02-14 11:22:31,165 8\n",
      "yt : [INFO     ] 2020-02-14 11:22:31,166 9\n"
     ]
    }
   ],
   "source": [
    "for i in range(10):\n",
    "    yt.mylog.info(i)"
   ]
  },
  {
   "cell_type": "code",
   "execution_count": 23,
   "metadata": {
    "scrolled": true,
    "slideshow": {
     "slide_type": "fragment"
    }
   },
   "outputs": [
    {
     "name": "stderr",
     "output_type": "stream",
     "text": [
      "yt : [INFO     ] 2020-02-14 11:22:46,465 0\n",
      "yt : [INFO     ] 2020-02-14 11:22:46,466 1\n",
      "yt : [INFO     ] 2020-02-14 11:22:46,466 2\n",
      "yt : [INFO     ] 2020-02-14 11:22:46,467 3\n",
      "yt : [INFO     ] 2020-02-14 11:22:46,467 4\n",
      "yt : [INFO     ] 2020-02-14 11:22:46,468 5\n",
      "yt : [INFO     ] 2020-02-14 11:22:46,469 6\n",
      "yt : [INFO     ] 2020-02-14 11:22:46,470 7\n",
      "yt : [INFO     ] 2020-02-14 11:22:46,471 8\n",
      "yt : [INFO     ] 2020-02-14 11:22:46,472 9\n"
     ]
    }
   ],
   "source": [
    "for i in yt.parallel_objects(range(10)):\n",
    "    yt.mylog.info(i)"
   ]
  }
 ],
 "metadata": {
  "celltoolbar": "Slideshow",
  "kernelspec": {
   "display_name": "Python 3",
   "language": "python",
   "name": "python3"
  },
  "language_info": {
   "codemirror_mode": {
    "name": "ipython",
    "version": 3
   },
   "file_extension": ".py",
   "mimetype": "text/x-python",
   "name": "python",
   "nbconvert_exporter": "python",
   "pygments_lexer": "ipython3",
   "version": "3.7.4"
  }
 },
 "nbformat": 4,
 "nbformat_minor": 2
}
