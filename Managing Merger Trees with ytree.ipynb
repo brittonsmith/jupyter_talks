{
 "cells": [
  {
   "cell_type": "markdown",
   "metadata": {
    "slideshow": {
     "slide_type": "slide"
    }
   },
   "source": [
    "# <center>Managing Merger Trees with `ytree`</center>\n",
    "### <center>Britton Smith</center>\n",
    "#### <center>Stobie Talk - 7 June, 2019</center>"
   ]
  },
  {
   "cell_type": "markdown",
   "metadata": {
    "slideshow": {
     "slide_type": "slide"
    }
   },
   "source": [
    "## <center>Halo Assembly as a Merger Tree</center>\n",
    "\n",
    "<p>\n",
    "\n",
    "<center><img src=\"talk.png\" alt=\"Drawing\" style=\"height: 80%;width: 80%\"/></center>"
   ]
  },
  {
   "cell_type": "markdown",
   "metadata": {
    "slideshow": {
     "slide_type": "slide"
    }
   },
   "source": [
    "## Many Codes, Many File Formats\n",
    "* <font color='red'>Amiga halo finder</font>: separate ascii files for tree and halo properties for each snapshot\n",
    "* <font color='red'>consistent-trees</font>: a single ascii file with all trees and properties\n",
    "* <font color='red'>LHaloTree</font>: all tree and halo properties in a series of binary files with supplemental ascii files\n",
    "* <font color='red'>Rockstar halo finder</font>: ascii files with tree and halo properties for each snapshot\n",
    "* many more..."
   ]
  },
  {
   "cell_type": "markdown",
   "metadata": {
    "slideshow": {
     "slide_type": "slide"
    }
   },
   "source": [
    "## `ytree`: `yt` for merger trees"
   ]
  },
  {
   "cell_type": "code",
   "execution_count": 1,
   "metadata": {
    "slideshow": {
     "slide_type": "fragment"
    }
   },
   "outputs": [],
   "source": [
    "import ytree"
   ]
  },
  {
   "cell_type": "markdown",
   "metadata": {
    "slideshow": {
     "slide_type": "fragment"
    }
   },
   "source": [
    "### One command to load them all"
   ]
  },
  {
   "cell_type": "code",
   "execution_count": 2,
   "metadata": {
    "slideshow": {
     "slide_type": "-"
    }
   },
   "outputs": [
    {
     "name": "stdout",
     "output_type": "stream",
     "text": [
      "Performance will be improved by saving this arbor with \"save_arbor\" and reloading:\n",
      "\t>>> a = ytree.load(\"consistent_trees/tree_0_0_0.dat\")\n",
      "\t>>> fn = a.save_arbor()\n",
      "\t>>> a = ytree.load(fn)\n"
     ]
    }
   ],
   "source": [
    "# consistent-trees\n",
    "arbor = ytree.load(\"consistent_trees/tree_0_0_0.dat\")\n",
    "# arbor = ytree.load(\"rockstar/rockstar_halos/out_0.list\")\n",
    "# arbor = ytree.load(\"ahf_halos/snap_N64L16_000.parameter\",\n",
    "#                hubble_constant=0.7)\n",
    "# arbor = ytree.load(\"lhalotree/trees_063.0\")"
   ]
  },
  {
   "cell_type": "markdown",
   "metadata": {
    "slideshow": {
     "slide_type": "subslide"
    }
   },
   "source": [
    "### `Arbor`: a collection of trees\n",
    "The arbor store all trees as a NumPy array."
   ]
  },
  {
   "cell_type": "code",
   "execution_count": 3,
   "metadata": {
    "slideshow": {
     "slide_type": "-"
    }
   },
   "outputs": [
    {
     "name": "stderr",
     "output_type": "stream",
     "text": [
      "Loading tree roots: 100%|██████████| 5105985/5105985 [00:00<00:00, 242760100.54it/s]"
     ]
    },
    {
     "name": "stdout",
     "output_type": "stream",
     "text": [
      "327\n"
     ]
    },
    {
     "name": "stderr",
     "output_type": "stream",
     "text": [
      "\n"
     ]
    }
   ],
   "source": [
    "# How many trees in this dataset?\n",
    "print(arbor.size)"
   ]
  },
  {
   "cell_type": "markdown",
   "metadata": {
    "slideshow": {
     "slide_type": "fragment"
    }
   },
   "source": [
    "### Accessing a tree"
   ]
  },
  {
   "cell_type": "code",
   "execution_count": 4,
   "metadata": {
    "slideshow": {
     "slide_type": "-"
    }
   },
   "outputs": [
    {
     "name": "stdout",
     "output_type": "stream",
     "text": [
      "TreeNode[12900]\n",
      "657410071942446.1 Msun\n",
      "0.0\n"
     ]
    }
   ],
   "source": [
    "print(arbor[0])\n",
    "print(arbor[0]['mass'])\n",
    "print(arbor[0]['redshift'])"
   ]
  },
  {
   "cell_type": "markdown",
   "metadata": {
    "slideshow": {
     "slide_type": "subslide"
    }
   },
   "source": [
    "### A tree is a collection of linked `TreeNode` objects"
   ]
  },
  {
   "cell_type": "code",
   "execution_count": 5,
   "metadata": {
    "slideshow": {
     "slide_type": "-"
    }
   },
   "outputs": [
    {
     "name": "stdout",
     "output_type": "stream",
     "text": [
      "Me: TreeNode[12900]\n",
      "My ancestors: [TreeNode[12539]]\n",
      "My ancestor's descendent (me): TreeNode[12900]\n"
     ]
    }
   ],
   "source": [
    "mytree = arbor[0]\n",
    "print(\"Me:\", mytree)\n",
    "print(\"My ancestors:\", mytree.ancestors)\n",
    "print(\"My ancestor's descendent (me):\", mytree.ancestors[0].descendent)"
   ]
  },
  {
   "cell_type": "markdown",
   "metadata": {
    "slideshow": {
     "slide_type": "subslide"
    }
   },
   "source": [
    "### Accessing all members of a tree\n",
    "\n",
    "The `tree` keyword will return all halos in the tree.\n",
    "\n",
    "The `prog` keyword will return only the main progenitors of the tree."
   ]
  },
  {
   "cell_type": "code",
   "execution_count": 6,
   "metadata": {
    "slideshow": {
     "slide_type": "-"
    }
   },
   "outputs": [
    {
     "name": "stdout",
     "output_type": "stream",
     "text": [
      "Halos in this tree:  83\n",
      "Main progenitors of the tree:  48\n"
     ]
    }
   ],
   "source": [
    "print(\"Halos in this tree: \", mytree[\"tree\"].size)\n",
    "print(\"Main progenitors of the tree: \", mytree[\"prog\"].size)"
   ]
  },
  {
   "cell_type": "markdown",
   "metadata": {
    "slideshow": {
     "slide_type": "fragment"
    }
   },
   "source": [
    "### Properties for a tree"
   ]
  },
  {
   "cell_type": "code",
   "execution_count": 7,
   "metadata": {
    "slideshow": {
     "slide_type": "-"
    }
   },
   "outputs": [
    {
     "name": "stdout",
     "output_type": "stream",
     "text": [
      "[1.583027 1.592008 1.599495 1.606476 1.608225 1.620332 1.630154 1.633193\n",
      " 1.635991 1.643129 1.641243 1.638572 1.629812 1.617422 1.607159 1.601904\n",
      " 1.590729 1.58484  1.571293 1.54282  1.503005 1.50288  1.48112  1.473812\n",
      " 1.484933 1.491288 1.491632 1.503691 1.515647 1.496365 1.484111 1.448162\n",
      " 1.456155 1.449893 1.419253 1.363171 1.249753 1.169597 1.115875 1.053721\n",
      " 0.988011 0.989242 0.975874 0.960079 0.967607 0.947434 0.910717 0.874321] Mpc/h\n"
     ]
    }
   ],
   "source": [
    "print(mytree['prog', 'virial_radius'].to('Mpc/h'))"
   ]
  },
  {
   "cell_type": "code",
   "execution_count": 8,
   "metadata": {
    "slideshow": {
     "slide_type": "subslide"
    }
   },
   "outputs": [
    {
     "data": {
      "image/png": "[encoded data removed]",
      "text/plain": [
       "<Figure size 720x432 with 1 Axes>"
      ]
     },
     "metadata": {
      "needs_background": "light"
     },
     "output_type": "display_data"
    }
   ],
   "source": [
    "from matplotlib import pyplot\n",
    "%matplotlib inline\n",
    "pyplot.rcParams['figure.figsize'] = (10, 6)\n",
    "pyplot.rcParams['font.size'] = 18\n",
    "\n",
    "pyplot.scatter(mytree[\"tree\", \"redshift\"], mytree[\"tree\", \"mass\"])\n",
    "pyplot.plot(mytree[\"prog\", \"redshift\"], mytree[\"prog\", \"mass\"], color=\"black\")\n",
    "pyplot.xlabel(\"z\")\n",
    "pyplot.ylabel(\"M [Msun]\")\n",
    "pyplot.show()"
   ]
  },
  {
   "cell_type": "markdown",
   "metadata": {
    "slideshow": {
     "slide_type": "subslide"
    }
   },
   "source": [
    "### Define your own properties"
   ]
  },
  {
   "cell_type": "code",
   "execution_count": 9,
   "metadata": {
    "slideshow": {
     "slide_type": "-"
    }
   },
   "outputs": [],
   "source": [
    "import yt\n",
    "def _potential_field(field, data):\n",
    "    return yt.physical_constants.G * data['mass'] / data['virial_radius']"
   ]
  },
  {
   "cell_type": "code",
   "execution_count": 10,
   "metadata": {
    "slideshow": {
     "slide_type": "fragment"
    }
   },
   "outputs": [],
   "source": [
    "arbor.add_derived_field(\"potential\", _potential_field, 'erg/g')"
   ]
  },
  {
   "cell_type": "code",
   "execution_count": 11,
   "metadata": {
    "slideshow": {
     "slide_type": "fragment"
    }
   },
   "outputs": [
    {
     "name": "stdout",
     "output_type": "stream",
     "text": [
      "[1.24126726e+16 1.23426489e+16 1.22203449e+16 1.20949603e+16\n",
      " 1.18972904e+16 1.18561697e+16 1.17847340e+16 1.16179755e+16\n",
      " 1.14561523e+16 1.13592729e+16 1.11443556e+16 1.09236810e+16\n",
      " 1.06314431e+16 1.03034063e+16 1.00133040e+16 9.79647516e+15\n",
      " 9.51383318e+15 9.30224671e+15 9.01295118e+15 8.56324590e+15\n",
      " 8.01466081e+15 7.90372522e+15 7.57268348e+15 7.39721666e+15\n",
      " 7.41132556e+15 7.37974281e+15 7.29154569e+15 7.31887196e+15\n",
      " 7.34910012e+15 7.07879498e+15 6.88223811e+15 6.47992625e+15\n",
      " 6.47979821e+15 6.35650923e+15 6.02708652e+15 5.50210161e+15\n",
      " 4.58021992e+15 3.97486069e+15 3.58272135e+15 3.16592498e+15\n",
      " 2.75881716e+15 2.74234192e+15 2.64681779e+15 2.54164461e+15\n",
      " 2.56231650e+15 2.43848171e+15 2.23740228e+15 2.04869147e+15] erg/g\n"
     ]
    }
   ],
   "source": [
    "print(mytree['prog', 'potential'])"
   ]
  },
  {
   "cell_type": "markdown",
   "metadata": {
    "slideshow": {
     "slide_type": "subslide"
    }
   },
   "source": [
    "### Re-save the arbor to an optimized format"
   ]
  },
  {
   "cell_type": "code",
   "execution_count": 12,
   "metadata": {
    "slideshow": {
     "slide_type": "-"
    }
   },
   "outputs": [
    {
     "name": "stderr",
     "output_type": "stream",
     "text": [
      "Setting up trees: 100%|██████████| 327/327 [00:00<00:00, 2362.94it/s]\n",
      "Reading root fields: 100%|██████████| 327/327 [00:00<00:00, 1617.43it/s]\n",
      "yt : [INFO     ] 2020-02-14 12:34:47,241 Saving field data to yt dataset: arbor/arbor.h5.\n",
      "Getting fields [1/1]: 100%|██████████| 327/327 [00:00<00:00, 371.06it/s]\n",
      "Creating field arrays [1/1]: 100%|██████████| 613895/613895 [00:00<00:00, 5683633.69it/s]\n",
      "yt : [INFO     ] 2020-02-14 12:34:48,293 Saving field data to yt dataset: arbor/arbor_0000.h5.\n"
     ]
    }
   ],
   "source": [
    "fn = arbor.save_arbor()"
   ]
  },
  {
   "cell_type": "code",
   "execution_count": 13,
   "metadata": {
    "slideshow": {
     "slide_type": "fragment"
    }
   },
   "outputs": [],
   "source": [
    "new_arbor = ytree.load(fn)"
   ]
  },
  {
   "cell_type": "markdown",
   "metadata": {
    "slideshow": {
     "slide_type": "fragment"
    }
   },
   "source": [
    "### Or save a single tree"
   ]
  },
  {
   "cell_type": "code",
   "execution_count": 14,
   "metadata": {
    "slideshow": {
     "slide_type": "-"
    }
   },
   "outputs": [
    {
     "name": "stderr",
     "output_type": "stream",
     "text": [
      "yt : [INFO     ] 2020-02-14 12:34:48,506 Saving field data to yt dataset: tree_12900/tree_12900.h5.\n",
      "Creating field arrays [1/1]: 100%|██████████| 4897/4897 [00:00<00:00, 3223400.30it/s]\n",
      "yt : [INFO     ] 2020-02-14 12:34:48,575 Saving field data to yt dataset: tree_12900/tree_12900_0000.h5.\n"
     ]
    }
   ],
   "source": [
    "treefn = mytree.save_tree()\n",
    "new_tree = ytree.load(treefn)"
   ]
  },
  {
   "cell_type": "markdown",
   "metadata": {
    "slideshow": {
     "slide_type": "subslide"
    }
   },
   "source": [
    "### A lot more..."
   ]
  },
  {
   "cell_type": "markdown",
   "metadata": {
    "slideshow": {
     "slide_type": "slide"
    }
   },
   "source": [
    "## `ytree` Resources\n",
    "\n",
    "* Installation:\n",
    "```\n",
    "pip install ytree\n",
    "```\n",
    "* Documentation:\n",
    "```\n",
    "ytree.readthedocs.io\n",
    "```\n",
    "    * sample data available\n",
    "* Source code:\n",
    "```\n",
    "github.com/brittonsmith/ytree\n",
    "```\n",
    "* The `yt` Project: `yt-project.org`"
   ]
  }
 ],
 "metadata": {
  "celltoolbar": "Slideshow",
  "kernelspec": {
   "display_name": "Python 3",
   "language": "python",
   "name": "python3"
  },
  "language_info": {
   "codemirror_mode": {
    "name": "ipython",
    "version": 3
   },
   "file_extension": ".py",
   "mimetype": "text/x-python",
   "name": "python",
   "nbconvert_exporter": "python",
   "pygments_lexer": "ipython3",
   "version": "3.7.4"
  }
 },
 "nbformat": 4,
 "nbformat_minor": 2
}
